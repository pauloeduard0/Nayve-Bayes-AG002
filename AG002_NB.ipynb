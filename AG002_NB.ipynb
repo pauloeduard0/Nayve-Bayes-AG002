{
  "nbformat": 4,
  "nbformat_minor": 0,
  "metadata": {
    "colab": {
      "name": "AG002-NB.ipynb",
      "provenance": [],
      "collapsed_sections": [],
      "authorship_tag": "ABX9TyP8aqf9KccmO+9+EiXfykEW",
      "include_colab_link": true
    },
    "kernelspec": {
      "name": "python3",
      "display_name": "Python 3"
    },
    "language_info": {
      "name": "python"
    }
  },
  "cells": [
    {
      "cell_type": "markdown",
      "metadata": {
        "id": "view-in-github",
        "colab_type": "text"
      },
      "source": [
        "<a href=\"https://colab.research.google.com/github/pauloeduard0/Nayve-Bayes-AG002/blob/main/AG002_NB.ipynb\" target=\"_parent\"><img src=\"https://colab.research.google.com/assets/colab-badge.svg\" alt=\"Open In Colab\"/></a>"
      ]
    },
    {
      "cell_type": "markdown",
      "source": [
        "#**AG002 - Nayve Bayes (Jogo da Velha)**\n",
        "\n",
        "## **<font>Equipe: Leonardo Martin de Lucio - 1446 / Paulo Eduardo Rocha Silveira - 1652</font>** \n"
      ],
      "metadata": {
        "id": "mU-lqT8JqN6R"
      }
    },
    {
      "cell_type": "markdown",
      "source": [
        "# Base de Dados"
      ],
      "metadata": {
        "id": "n3RrVl2yu0Xx"
      }
    },
    {
      "cell_type": "code",
      "execution_count": 41,
      "metadata": {
        "colab": {
          "base_uri": "https://localhost:8080/"
        },
        "id": "KUKeKkR3_e4b",
        "outputId": "27949f95-8c77-4c9a-85a6-a7b8997f5ecd"
      },
      "outputs": [
        {
          "output_type": "stream",
          "name": "stdout",
          "text": [
            "     1  2  3  4  5  6  7  8  9  resultado\n",
            "0    1  1  1  1 -1 -1  1 -1 -1          1\n",
            "1    1  1  1  1 -1 -1 -1  1 -1          1\n",
            "2    1  1  1  1 -1 -1 -1 -1  1          1\n",
            "3    1  1  1  1 -1 -1 -1  0  0          1\n",
            "4    1  1  1  1 -1 -1  0 -1  0          1\n",
            "..  .. .. .. .. .. .. .. .. ..        ...\n",
            "953 -1  1  1  1 -1 -1 -1  1  1         -1\n",
            "954 -1  1 -1  1  1 -1  1 -1  1         -1\n",
            "955 -1  1 -1  1 -1  1  1 -1  1         -1\n",
            "956 -1  1 -1 -1  1  1  1 -1  1         -1\n",
            "957 -1 -1  1  1  1 -1 -1  1  1         -1\n",
            "\n",
            "[958 rows x 10 columns]\n"
          ]
        }
      ],
      "source": [
        "import pandas as pd\n",
        "\n",
        "data = pd.read_csv(\"tic-tac-toe.csv\")\n",
        "\n",
        "df = pd.DataFrame(data)\n",
        "\n",
        "new_df = df.replace({'o': -1, 'b': 0, 'x': 1, 'negativo': -1, 'positivo': 1})\n",
        "\n",
        "print(new_df)"
      ]
    },
    {
      "cell_type": "markdown",
      "source": [
        "# Formação dos conjuntos de treinamento e teste"
      ],
      "metadata": {
        "id": "L-sRRZSFuWg3"
      }
    },
    {
      "cell_type": "code",
      "source": [
        "import pandas as pd\n",
        "import numpy as np\n",
        "from sklearn.model_selection import train_test_split\n",
        "\n",
        "data = np.array(new_df)\n",
        "\n",
        "# Indentificando os rótulos das classes\n",
        "labels = []\n",
        "for line in range(data.shape[0]):\n",
        "  if(labels.count(data[line, data.shape[1]-1])==0):\n",
        "    labels.append(data[line, data.shape[1]-1])\n",
        "\n",
        "y = np.array(data[:, data.shape[1]-1])\n",
        "x = (data[:, :(data.shape[1]-1)]).astype(np.float32)\n",
        "\n",
        "# Gerando os conjuntos de treinamento e teste (validação)\n",
        "train_x, test_x, train_y, test_y = train_test_split(x,y, test_size=0.20) # 20% dos dados no conjunto de teste\n",
        "\n",
        "print('Conjuntos de treinamento e teste separados!')"
      ],
      "metadata": {
        "colab": {
          "base_uri": "https://localhost:8080/"
        },
        "id": "rCC9Xicn_z6q",
        "outputId": "47b4b14b-0fa3-4cf6-de2f-664d39874feb"
      },
      "execution_count": 42,
      "outputs": [
        {
          "output_type": "stream",
          "name": "stdout",
          "text": [
            "Conjuntos de treinamento e teste separados!\n"
          ]
        }
      ]
    },
    {
      "cell_type": "markdown",
      "source": [
        "# Ajuste do modelo para classes com distribuição gaussiana"
      ],
      "metadata": {
        "id": "exKZo65pudk6"
      }
    },
    {
      "cell_type": "code",
      "source": [
        "from sklearn.naive_bayes import GaussianNB\n",
        "model = GaussianNB()\n",
        "\n",
        "model.fit(train_x, train_y)\n",
        "print('Modelo Ajustado!')"
      ],
      "metadata": {
        "colab": {
          "base_uri": "https://localhost:8080/"
        },
        "id": "xxMbE9fZAB92",
        "outputId": "14b2dccf-9e94-4399-d660-4b1b686f5bec"
      },
      "execution_count": 43,
      "outputs": [
        {
          "output_type": "stream",
          "name": "stdout",
          "text": [
            "Modelo Ajustado!\n"
          ]
        }
      ]
    },
    {
      "cell_type": "markdown",
      "source": [
        "# Matriz de confusão para o conjunto de treinamento"
      ],
      "metadata": {
        "id": "9cDHfwV6uiy7"
      }
    },
    {
      "cell_type": "code",
      "source": [
        "\n",
        "%matplotlib inline\n",
        "import matplotlib.pyplot as plt\n",
        "import seaborn as sns; sns.set()\n",
        "from sklearn.metrics import confusion_matrix\n",
        "from sklearn.metrics import classification_report\n",
        "from sklearn.metrics import accuracy_score\n",
        "\n",
        "train_est_y = model.predict(train_x)\n",
        "\n",
        "mat = confusion_matrix(train_y, train_est_y)\n",
        "sns.heatmap(mat.T, square=True, annot=True, fmt='d', cbar=False, xticklabels=labels, yticklabels=labels)\n",
        "plt.xlabel('Real')\n",
        "plt.ylabel('Estimado');\n",
        "\n",
        "print(classification_report(train_y, train_est_y)) # mostra relatório\n",
        "print('A acurácia é ',accuracy_score(train_est_y, train_y)) # exibe acurácia"
      ],
      "metadata": {
        "colab": {
          "base_uri": "https://localhost:8080/",
          "height": 459
        },
        "id": "V0DQWHJHAGIK",
        "outputId": "3b1aeb23-9c60-4d94-fba6-b1d7cbdeec1b"
      },
      "execution_count": 44,
      "outputs": [
        {
          "output_type": "stream",
          "name": "stdout",
          "text": [
            "              precision    recall  f1-score   support\n",
            "\n",
            "          -1       0.61      0.43      0.50       269\n",
            "           1       0.73      0.85      0.79       497\n",
            "\n",
            "    accuracy                           0.70       766\n",
            "   macro avg       0.67      0.64      0.64       766\n",
            "weighted avg       0.69      0.70      0.69       766\n",
            "\n",
            "A acurácia é  0.7010443864229765\n"
          ]
        },
        {
          "output_type": "display_data",
          "data": {
            "text/plain": [
              "<Figure size 432x288 with 1 Axes>"
            ],
            "image/png": "[encoded data removed]"
          },
          "metadata": {}
        }
      ]
    },
    {
      "cell_type": "markdown",
      "source": [
        "# Matriz de confusão para o conjunto de teste"
      ],
      "metadata": {
        "id": "ZeeVce8Mul7-"
      }
    },
    {
      "cell_type": "code",
      "source": [
        "%matplotlib inline\n",
        "import matplotlib.pyplot as plt\n",
        "import seaborn as sns; sns.set()\n",
        "from sklearn.metrics import confusion_matrix\n",
        "from sklearn.metrics import classification_report\n",
        "from sklearn.metrics import accuracy_score\n",
        "\n",
        "test_est_y = model.predict(test_x)\n",
        "\n",
        "mat = confusion_matrix(test_y, test_est_y)\n",
        "sns.heatmap(mat.T, square=True, annot=True, fmt='d', cbar=False, xticklabels=labels, yticklabels=labels)\n",
        "plt.xlabel('Real')\n",
        "plt.ylabel('Estimado');\n",
        "\n",
        "print(classification_report(test_y, test_est_y)) # mostra relatório\n",
        "print('A acurácia é ',accuracy_score(test_est_y, test_y)) # exibe acurácia"
      ],
      "metadata": {
        "colab": {
          "base_uri": "https://localhost:8080/",
          "height": 459
        },
        "id": "1uRw_hWhAIHZ",
        "outputId": "1187b552-6717-4c19-cb1d-1846d004c863"
      },
      "execution_count": 45,
      "outputs": [
        {
          "output_type": "stream",
          "name": "stdout",
          "text": [
            "              precision    recall  f1-score   support\n",
            "\n",
            "          -1       0.56      0.32      0.40        63\n",
            "           1       0.72      0.88      0.79       129\n",
            "\n",
            "    accuracy                           0.69       192\n",
            "   macro avg       0.64      0.60      0.60       192\n",
            "weighted avg       0.67      0.69      0.67       192\n",
            "\n",
            "A acurácia é  0.6927083333333334\n"
          ]
        },
        {
          "output_type": "display_data",
          "data": {
            "text/plain": [
              "<Figure size 432x288 with 1 Axes>"
            ],
            "image/png": "[encoded data removed]"
          },
          "metadata": {}
        }
      ]
    }
  ]
}